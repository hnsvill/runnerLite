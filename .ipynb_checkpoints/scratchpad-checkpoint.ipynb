{
 "cells": [
  {
   "cell_type": "code",
   "execution_count": 1,
   "metadata": {},
   "outputs": [],
   "source": [
    "from decimal import *\n",
    "resp = [{'user_id': 'd77908482ed2505ebbf17ef72be2f080', 'distance': Decimal('4.478512443021909'), 'ascent': Decimal('81.33643397688866'), 'descent': Decimal('80.4417839050293'), 'calories': Decimal('60.935'), 'pace': Decimal('13.360429553618925'), 'steps': Decimal('6388'), 'end': '2017-12-02T20:01:09.756000Z', 'speed': Decimal('4.490873572530299'), 'start': '2017-12-02T18:58:13Z', 'activity_id': '254369755c4e59b48f72717075dc3456', 'type': 'run'}, {'user_id': 'd77908482ed2505ebbf17ef72be2f080', 'distance': Decimal('1.334750197192503'), 'descent': Decimal('6.8222527503967285'), 'calories': Decimal('107.624'), 'pace': Decimal('11.704499737998676'), 'steps': Decimal('1807'), 'end': '2018-01-16T00:41:37.261000Z', 'speed': Decimal('5.12623361468495'), 'start': '2018-01-16T00:25:57Z', 'activity_id': '869942d3c43e5f66afec49526fb2d5a6', 'type': 'run'}, {'user_id': 'd77908482ed2505ebbf17ef72be2f080', 'distance': Decimal('5.5344684198995795'), 'ascent': Decimal('9.61392728984356'), 'descent': Decimal('8.326112833991644'), 'calories': Decimal('446.039'), 'pace': Decimal('12.599824959268377'), 'steps': Decimal('7882'), 'end': '2018-01-28T19:48:46.610000Z', 'speed': Decimal('4.761970915783577'), 'start': '2018-01-28T18:38:59Z', 'activity_id': 'c456c887e36f5352b19ba37f85a1f183', 'type': 'run'}, {'user_id': 'd77908482ed2505ebbf17ef72be2f080', 'distance': Decimal('4.295745239046658'), 'ascent': Decimal('10.98809027671814'), 'descent': Decimal('23.580438494682312'), 'calories': Decimal('344.588'), 'pace': Decimal('12.745169220544955'), 'steps': Decimal('6259'), 'end': '2018-01-30T04:00:09.215000Z', 'speed': Decimal('4.707666015393598'), 'start': '2018-01-30T03:05:21Z', 'activity_id': 'cf95db0decc751d1b0d8bc62bacf346f', 'type': 'run'}, {'user_id': 'd77908482ed2505ebbf17ef72be2f080', 'distance': Decimal('5.107463362456542'), 'ascent': Decimal('12.875235080718994'), 'descent': Decimal('5.715232342481613'), 'calories': Decimal('400.779'), 'pace': Decimal('12.018359991486992'), 'steps': Decimal('7089'), 'end': '2018-02-04T20:07:59.943000Z', 'speed': Decimal('4.99236169015573'), 'start': '2018-02-04T19:06:33Z', 'activity_id': 'eecc01012a6653979761045704249464', 'type': 'run'}, {'user_id': 'd77908482ed2505ebbf17ef72be2f080', 'distance': Decimal('0.5228733835008679'), 'ascent': Decimal('1.1092855632305145'), 'descent': Decimal('10.84444808959961'), 'calories': Decimal('42.686'), 'pace': Decimal('14.981319723879828'), 'steps': Decimal('846'), 'end': '2018-02-24T23:29:41.033000Z', 'speed': Decimal('4.004987618304519'), 'start': '2018-02-24T22:45:10Z', 'activity_id': 'fd66e96c1dbd5a20b97937acd1f5f80d', 'type': 'run'}, {'user_id': 'd77908482ed2505ebbf17ef72be2f080', 'distance': Decimal('2.443870362459134'), 'ascent': Decimal('4.28290230631827'), 'descent': Decimal('6.290907746553408'), 'calories': Decimal('193.358'), 'pace': Decimal('12.439285023862777'), 'steps': Decimal('3543'), 'end': '2018-03-23T01:56:41.207000Z', 'speed': Decimal('4.823428346958816'), 'start': '2018-03-23T01:26:12Z', 'activity_id': '4f831a24d1d65155a6748b33ad0118d1', 'type': 'run'}]"
   ]
  },
  {
   "cell_type": "code",
   "execution_count": 2,
   "metadata": {},
   "outputs": [
    {
     "data": {
      "text/plain": [
       "[{'user_id': 'd77908482ed2505ebbf17ef72be2f080',\n",
       "  'distance': Decimal('4.478512443021909'),\n",
       "  'ascent': Decimal('81.33643397688866'),\n",
       "  'descent': Decimal('80.4417839050293'),\n",
       "  'calories': Decimal('60.935'),\n",
       "  'pace': Decimal('13.360429553618925'),\n",
       "  'steps': Decimal('6388'),\n",
       "  'end': '2017-12-02T20:01:09.756000Z',\n",
       "  'speed': Decimal('4.490873572530299'),\n",
       "  'start': '2017-12-02T18:58:13Z',\n",
       "  'activity_id': '254369755c4e59b48f72717075dc3456',\n",
       "  'type': 'run'},\n",
       " {'user_id': 'd77908482ed2505ebbf17ef72be2f080',\n",
       "  'distance': Decimal('1.334750197192503'),\n",
       "  'descent': Decimal('6.8222527503967285'),\n",
       "  'calories': Decimal('107.624'),\n",
       "  'pace': Decimal('11.704499737998676'),\n",
       "  'steps': Decimal('1807'),\n",
       "  'end': '2018-01-16T00:41:37.261000Z',\n",
       "  'speed': Decimal('5.12623361468495'),\n",
       "  'start': '2018-01-16T00:25:57Z',\n",
       "  'activity_id': '869942d3c43e5f66afec49526fb2d5a6',\n",
       "  'type': 'run'},\n",
       " {'user_id': 'd77908482ed2505ebbf17ef72be2f080',\n",
       "  'distance': Decimal('5.5344684198995795'),\n",
       "  'ascent': Decimal('9.61392728984356'),\n",
       "  'descent': Decimal('8.326112833991644'),\n",
       "  'calories': Decimal('446.039'),\n",
       "  'pace': Decimal('12.599824959268377'),\n",
       "  'steps': Decimal('7882'),\n",
       "  'end': '2018-01-28T19:48:46.610000Z',\n",
       "  'speed': Decimal('4.761970915783577'),\n",
       "  'start': '2018-01-28T18:38:59Z',\n",
       "  'activity_id': 'c456c887e36f5352b19ba37f85a1f183',\n",
       "  'type': 'run'},\n",
       " {'user_id': 'd77908482ed2505ebbf17ef72be2f080',\n",
       "  'distance': Decimal('4.295745239046658'),\n",
       "  'ascent': Decimal('10.98809027671814'),\n",
       "  'descent': Decimal('23.580438494682312'),\n",
       "  'calories': Decimal('344.588'),\n",
       "  'pace': Decimal('12.745169220544955'),\n",
       "  'steps': Decimal('6259'),\n",
       "  'end': '2018-01-30T04:00:09.215000Z',\n",
       "  'speed': Decimal('4.707666015393598'),\n",
       "  'start': '2018-01-30T03:05:21Z',\n",
       "  'activity_id': 'cf95db0decc751d1b0d8bc62bacf346f',\n",
       "  'type': 'run'},\n",
       " {'user_id': 'd77908482ed2505ebbf17ef72be2f080',\n",
       "  'distance': Decimal('5.107463362456542'),\n",
       "  'ascent': Decimal('12.875235080718994'),\n",
       "  'descent': Decimal('5.715232342481613'),\n",
       "  'calories': Decimal('400.779'),\n",
       "  'pace': Decimal('12.018359991486992'),\n",
       "  'steps': Decimal('7089'),\n",
       "  'end': '2018-02-04T20:07:59.943000Z',\n",
       "  'speed': Decimal('4.99236169015573'),\n",
       "  'start': '2018-02-04T19:06:33Z',\n",
       "  'activity_id': 'eecc01012a6653979761045704249464',\n",
       "  'type': 'run'},\n",
       " {'user_id': 'd77908482ed2505ebbf17ef72be2f080',\n",
       "  'distance': Decimal('0.5228733835008679'),\n",
       "  'ascent': Decimal('1.1092855632305145'),\n",
       "  'descent': Decimal('10.84444808959961'),\n",
       "  'calories': Decimal('42.686'),\n",
       "  'pace': Decimal('14.981319723879828'),\n",
       "  'steps': Decimal('846'),\n",
       "  'end': '2018-02-24T23:29:41.033000Z',\n",
       "  'speed': Decimal('4.004987618304519'),\n",
       "  'start': '2018-02-24T22:45:10Z',\n",
       "  'activity_id': 'fd66e96c1dbd5a20b97937acd1f5f80d',\n",
       "  'type': 'run'},\n",
       " {'user_id': 'd77908482ed2505ebbf17ef72be2f080',\n",
       "  'distance': Decimal('2.443870362459134'),\n",
       "  'ascent': Decimal('4.28290230631827'),\n",
       "  'descent': Decimal('6.290907746553408'),\n",
       "  'calories': Decimal('193.358'),\n",
       "  'pace': Decimal('12.439285023862777'),\n",
       "  'steps': Decimal('3543'),\n",
       "  'end': '2018-03-23T01:56:41.207000Z',\n",
       "  'speed': Decimal('4.823428346958816'),\n",
       "  'start': '2018-03-23T01:26:12Z',\n",
       "  'activity_id': '4f831a24d1d65155a6748b33ad0118d1',\n",
       "  'type': 'run'}]"
      ]
     },
     "execution_count": 2,
     "metadata": {},
     "output_type": "execute_result"
    }
   ],
   "source": [
    "resp"
   ]
  },
  {
   "cell_type": "code",
   "execution_count": 13,
   "metadata": {},
   "outputs": [],
   "source": [
    "userIDs = []\n",
    "for itm in resp:\n",
    "    userIDs.append(itm[\"distance\"])"
   ]
  },
  {
   "cell_type": "code",
   "execution_count": 23,
   "metadata": {},
   "outputs": [
    {
     "data": {
      "text/plain": [
       "5"
      ]
     },
     "execution_count": 23,
     "metadata": {},
     "output_type": "execute_result"
    }
   ],
   "source": [
    "from functools import reduce\n",
    "li = [1,1,1,2]\n",
    "reduce((lambda x, y: x + y), li)"
   ]
  },
  {
   "cell_type": "code",
   "execution_count": 31,
   "metadata": {},
   "outputs": [
    {
     "ename": "AttributeError",
     "evalue": "module 'datetime' has no attribute 'strptime'",
     "output_type": "error",
     "traceback": [
      "\u001b[0;31m---------------------------------------------------------------------------\u001b[0m",
      "\u001b[0;31mAttributeError\u001b[0m                            Traceback (most recent call last)",
      "\u001b[0;32m<ipython-input-31-851fecfb1bb7>\u001b[0m in \u001b[0;36m<module>\u001b[0;34m\u001b[0m\n\u001b[1;32m      1\u001b[0m \u001b[0;32mimport\u001b[0m \u001b[0mdatetime\u001b[0m\u001b[0;34m\u001b[0m\u001b[0;34m\u001b[0m\u001b[0m\n\u001b[0;32m----> 2\u001b[0;31m \u001b[0mdatetime\u001b[0m\u001b[0;34m.\u001b[0m\u001b[0mstrptime\u001b[0m\u001b[0;34m(\u001b[0m\u001b[0mresp\u001b[0m\u001b[0;34m[\u001b[0m\u001b[0;36m0\u001b[0m\u001b[0;34m]\u001b[0m\u001b[0;34m[\u001b[0m\u001b[0;34m\"start\"\u001b[0m\u001b[0;34m]\u001b[0m\u001b[0;34m,\u001b[0m \u001b[0;34m\"mm-dd-yy\"\u001b[0m\u001b[0;34m)\u001b[0m\u001b[0;34m\u001b[0m\u001b[0;34m\u001b[0m\u001b[0m\n\u001b[0m",
      "\u001b[0;31mAttributeError\u001b[0m: module 'datetime' has no attribute 'strptime'"
     ]
    }
   ],
   "source": [
    "import datetime\n",
    "datetime.strptime(resp[0][\"start\"], \"mm-dd-yy\")"
   ]
  },
  {
   "cell_type": "code",
   "execution_count": 50,
   "metadata": {},
   "outputs": [],
   "source": [
    "dateStr = resp[0][\"start\"]"
   ]
  },
  {
   "cell_type": "code",
   "execution_count": 49,
   "metadata": {},
   "outputs": [
    {
     "ename": "TypeError",
     "evalue": "'Timestamp' object is not subscriptable",
     "output_type": "error",
     "traceback": [
      "\u001b[0;31m---------------------------------------------------------------------------\u001b[0m",
      "\u001b[0;31mTypeError\u001b[0m                                 Traceback (most recent call last)",
      "\u001b[0;32m<ipython-input-49-e3957090ba69>\u001b[0m in \u001b[0;36m<module>\u001b[0;34m\u001b[0m\n\u001b[1;32m      1\u001b[0m \u001b[0;32mimport\u001b[0m \u001b[0mdatetime\u001b[0m\u001b[0;34m\u001b[0m\u001b[0;34m\u001b[0m\u001b[0m\n\u001b[0;32m----> 2\u001b[0;31m \u001b[0mdateStr\u001b[0m \u001b[0;34m=\u001b[0m \u001b[0mdatetime\u001b[0m\u001b[0;34m.\u001b[0m\u001b[0mdatetime\u001b[0m\u001b[0;34m.\u001b[0m\u001b[0mstrptime\u001b[0m\u001b[0;34m(\u001b[0m\u001b[0mnewdt\u001b[0m\u001b[0;34m[\u001b[0m\u001b[0;34m:\u001b[0m\u001b[0;36m10\u001b[0m\u001b[0;34m]\u001b[0m\u001b[0;34m,\u001b[0m \u001b[0;34m\"%Y-%m-%d\"\u001b[0m\u001b[0;34m)\u001b[0m\u001b[0;34m\u001b[0m\u001b[0;34m\u001b[0m\u001b[0m\n\u001b[0m",
      "\u001b[0;31mTypeError\u001b[0m: 'Timestamp' object is not subscriptable"
     ]
    }
   ],
   "source": [
    "import datetime"
   ]
  },
  {
   "cell_type": "code",
   "execution_count": 54,
   "metadata": {},
   "outputs": [],
   "source": [
    "rundate = datetime.datetime.strptime(dateStr[:10], \"%Y-%m-%d\")"
   ]
  },
  {
   "cell_type": "code",
   "execution_count": 55,
   "metadata": {},
   "outputs": [
    {
     "data": {
      "text/plain": [
       "5"
      ]
     },
     "execution_count": 55,
     "metadata": {},
     "output_type": "execute_result"
    }
   ],
   "source": [
    "rundate.weekday() # Monday is 0 and Sunday is 6"
   ]
  },
  {
   "cell_type": "code",
   "execution_count": 56,
   "metadata": {},
   "outputs": [],
   "source": [
    "for workout in resp:\n",
    "    workout[\"start\"] = datetime.datetime.strptime(workout[\"start\"][:10], \"%Y-%m-%d\")"
   ]
  },
  {
   "cell_type": "code",
   "execution_count": 57,
   "metadata": {},
   "outputs": [
    {
     "data": {
      "text/plain": [
       "[{'user_id': 'd77908482ed2505ebbf17ef72be2f080',\n",
       "  'distance': Decimal('4.478512443021909'),\n",
       "  'ascent': Decimal('81.33643397688866'),\n",
       "  'descent': Decimal('80.4417839050293'),\n",
       "  'calories': Decimal('60.935'),\n",
       "  'pace': Decimal('13.360429553618925'),\n",
       "  'steps': Decimal('6388'),\n",
       "  'end': '2017-12-02T20:01:09.756000Z',\n",
       "  'speed': Decimal('4.490873572530299'),\n",
       "  'start': datetime.datetime(2017, 12, 2, 0, 0),\n",
       "  'activity_id': '254369755c4e59b48f72717075dc3456',\n",
       "  'type': 'run'},\n",
       " {'user_id': 'd77908482ed2505ebbf17ef72be2f080',\n",
       "  'distance': Decimal('1.334750197192503'),\n",
       "  'descent': Decimal('6.8222527503967285'),\n",
       "  'calories': Decimal('107.624'),\n",
       "  'pace': Decimal('11.704499737998676'),\n",
       "  'steps': Decimal('1807'),\n",
       "  'end': '2018-01-16T00:41:37.261000Z',\n",
       "  'speed': Decimal('5.12623361468495'),\n",
       "  'start': datetime.datetime(2018, 1, 16, 0, 0),\n",
       "  'activity_id': '869942d3c43e5f66afec49526fb2d5a6',\n",
       "  'type': 'run'},\n",
       " {'user_id': 'd77908482ed2505ebbf17ef72be2f080',\n",
       "  'distance': Decimal('5.5344684198995795'),\n",
       "  'ascent': Decimal('9.61392728984356'),\n",
       "  'descent': Decimal('8.326112833991644'),\n",
       "  'calories': Decimal('446.039'),\n",
       "  'pace': Decimal('12.599824959268377'),\n",
       "  'steps': Decimal('7882'),\n",
       "  'end': '2018-01-28T19:48:46.610000Z',\n",
       "  'speed': Decimal('4.761970915783577'),\n",
       "  'start': datetime.datetime(2018, 1, 28, 0, 0),\n",
       "  'activity_id': 'c456c887e36f5352b19ba37f85a1f183',\n",
       "  'type': 'run'},\n",
       " {'user_id': 'd77908482ed2505ebbf17ef72be2f080',\n",
       "  'distance': Decimal('4.295745239046658'),\n",
       "  'ascent': Decimal('10.98809027671814'),\n",
       "  'descent': Decimal('23.580438494682312'),\n",
       "  'calories': Decimal('344.588'),\n",
       "  'pace': Decimal('12.745169220544955'),\n",
       "  'steps': Decimal('6259'),\n",
       "  'end': '2018-01-30T04:00:09.215000Z',\n",
       "  'speed': Decimal('4.707666015393598'),\n",
       "  'start': datetime.datetime(2018, 1, 30, 0, 0),\n",
       "  'activity_id': 'cf95db0decc751d1b0d8bc62bacf346f',\n",
       "  'type': 'run'},\n",
       " {'user_id': 'd77908482ed2505ebbf17ef72be2f080',\n",
       "  'distance': Decimal('5.107463362456542'),\n",
       "  'ascent': Decimal('12.875235080718994'),\n",
       "  'descent': Decimal('5.715232342481613'),\n",
       "  'calories': Decimal('400.779'),\n",
       "  'pace': Decimal('12.018359991486992'),\n",
       "  'steps': Decimal('7089'),\n",
       "  'end': '2018-02-04T20:07:59.943000Z',\n",
       "  'speed': Decimal('4.99236169015573'),\n",
       "  'start': datetime.datetime(2018, 2, 4, 0, 0),\n",
       "  'activity_id': 'eecc01012a6653979761045704249464',\n",
       "  'type': 'run'},\n",
       " {'user_id': 'd77908482ed2505ebbf17ef72be2f080',\n",
       "  'distance': Decimal('0.5228733835008679'),\n",
       "  'ascent': Decimal('1.1092855632305145'),\n",
       "  'descent': Decimal('10.84444808959961'),\n",
       "  'calories': Decimal('42.686'),\n",
       "  'pace': Decimal('14.981319723879828'),\n",
       "  'steps': Decimal('846'),\n",
       "  'end': '2018-02-24T23:29:41.033000Z',\n",
       "  'speed': Decimal('4.004987618304519'),\n",
       "  'start': datetime.datetime(2018, 2, 24, 0, 0),\n",
       "  'activity_id': 'fd66e96c1dbd5a20b97937acd1f5f80d',\n",
       "  'type': 'run'},\n",
       " {'user_id': 'd77908482ed2505ebbf17ef72be2f080',\n",
       "  'distance': Decimal('2.443870362459134'),\n",
       "  'ascent': Decimal('4.28290230631827'),\n",
       "  'descent': Decimal('6.290907746553408'),\n",
       "  'calories': Decimal('193.358'),\n",
       "  'pace': Decimal('12.439285023862777'),\n",
       "  'steps': Decimal('3543'),\n",
       "  'end': '2018-03-23T01:56:41.207000Z',\n",
       "  'speed': Decimal('4.823428346958816'),\n",
       "  'start': datetime.datetime(2018, 3, 23, 0, 0),\n",
       "  'activity_id': '4f831a24d1d65155a6748b33ad0118d1',\n",
       "  'type': 'run'}]"
      ]
     },
     "execution_count": 57,
     "metadata": {},
     "output_type": "execute_result"
    }
   ],
   "source": [
    "resp"
   ]
  },
  {
   "cell_type": "code",
   "execution_count": 59,
   "metadata": {},
   "outputs": [
    {
     "data": {
      "text/plain": [
       "datetime.datetime(2017, 12, 2, 0, 0)"
      ]
     },
     "execution_count": 59,
     "metadata": {},
     "output_type": "execute_result"
    }
   ],
   "source": [
    "sampleDt = resp[0][\"start\"]\n",
    "sampleDt"
   ]
  },
  {
   "cell_type": "code",
   "execution_count": 62,
   "metadata": {},
   "outputs": [
    {
     "data": {
      "text/plain": [
       "datetime.datetime(2017, 12, 1, 0, 0)"
      ]
     },
     "execution_count": 62,
     "metadata": {},
     "output_type": "execute_result"
    }
   ],
   "source": [
    "sampleDt - datetime.timedelta(1)"
   ]
  },
  {
   "cell_type": "code",
   "execution_count": 63,
   "metadata": {},
   "outputs": [
    {
     "data": {
      "text/plain": [
       "5"
      ]
     },
     "execution_count": 63,
     "metadata": {},
     "output_type": "execute_result"
    }
   ],
   "source": [
    "sampleDt.weekday()"
   ]
  },
  {
   "cell_type": "code",
   "execution_count": 67,
   "metadata": {},
   "outputs": [
    {
     "data": {
      "text/plain": [
       "0"
      ]
     },
     "execution_count": 67,
     "metadata": {},
     "output_type": "execute_result"
    }
   ],
   "source": [
    "firstOfWeek = sampleDt - datetime.timedelta(sampleDt.weekday())\n",
    "firstOfWeek.weekday()"
   ]
  },
  {
   "cell_type": "code",
   "execution_count": 66,
   "metadata": {},
   "outputs": [
    {
     "data": {
      "text/plain": [
       "datetime.timedelta(days=5)"
      ]
     },
     "execution_count": 66,
     "metadata": {},
     "output_type": "execute_result"
    }
   ],
   "source": [
    "datetime.timedelta(sampleDt.weekday())"
   ]
  },
  {
   "cell_type": "code",
   "execution_count": 68,
   "metadata": {},
   "outputs": [
    {
     "ename": "NameError",
     "evalue": "name 'dgh' is not defined",
     "output_type": "error",
     "traceback": [
      "\u001b[0;31m---------------------------------------------------------------------------\u001b[0m",
      "\u001b[0;31mNameError\u001b[0m                                 Traceback (most recent call last)",
      "\u001b[0;32m<ipython-input-68-388ac509452e>\u001b[0m in \u001b[0;36m<module>\u001b[0;34m\u001b[0m\n\u001b[0;32m----> 1\u001b[0;31m \u001b[0mdgh\u001b[0m\u001b[0;34m\u001b[0m\u001b[0;34m\u001b[0m\u001b[0m\n\u001b[0m",
      "\u001b[0;31mNameError\u001b[0m: name 'dgh' is not defined"
     ]
    }
   ],
   "source": [
    "dgh"
   ]
  },
  {
   "cell_type": "code",
   "execution_count": null,
   "metadata": {},
   "outputs": [],
   "source": []
  }
 ],
 "metadata": {
  "kernelspec": {
   "display_name": "Python 3",
   "language": "python",
   "name": "python3"
  },
  "language_info": {
   "codemirror_mode": {
    "name": "ipython",
    "version": 3
   },
   "file_extension": ".py",
   "mimetype": "text/x-python",
   "name": "python",
   "nbconvert_exporter": "python",
   "pygments_lexer": "ipython3",
   "version": "3.7.2"
  }
 },
 "nbformat": 4,
 "nbformat_minor": 2
}
