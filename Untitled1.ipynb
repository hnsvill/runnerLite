{
 "cells": [
  {
   "cell_type": "code",
   "execution_count": 1,
   "metadata": {},
   "outputs": [],
   "source": [
    "from decimal import Decimal\n",
    "from datetime import datetime, timedelta"
   ]
  },
  {
   "cell_type": "code",
   "execution_count": 2,
   "metadata": {},
   "outputs": [],
   "source": [
    "userData = [{'user_id': 'd77908482ed2505ebbf17ef72be2f080', 'distance': Decimal('4.478512443021909'), 'ascent': Decimal('81.33643397688866'), 'descent': Decimal('80.4417839050293'), 'calories': Decimal('60.935'), 'pace': Decimal('13.360429553618925'), 'steps': Decimal('6388'), 'end': '2017-12-02T20:01:09.756000Z', 'speed': Decimal('4.490873572530299'), 'start': '2017-12-02T18:58:13Z', 'activity_id': '254369755c4e59b48f72717075dc3456', 'type': 'run'}, {'user_id': 'd77908482ed2505ebbf17ef72be2f080', 'distance': Decimal('1.334750197192503'), 'descent': Decimal('6.8222527503967285'), 'calories': Decimal('107.624'), 'pace': Decimal('11.704499737998676'), 'steps': Decimal('1807'), 'end': '2018-01-16T00:41:37.261000Z', 'speed': Decimal('5.12623361468495'), 'start': '2018-01-16T00:25:57Z', 'activity_id': '869942d3c43e5f66afec49526fb2d5a6', 'type': 'run'}, {'user_id': 'd77908482ed2505ebbf17ef72be2f080', 'distance': Decimal('5.5344684198995795'), 'ascent': Decimal('9.61392728984356'), 'descent': Decimal('8.326112833991644'), 'calories': Decimal('446.039'), 'pace': Decimal('12.599824959268377'), 'steps': Decimal('7882'), 'end': '2018-01-28T19:48:46.610000Z', 'speed': Decimal('4.761970915783577'), 'start': '2018-01-28T18:38:59Z', 'activity_id': 'c456c887e36f5352b19ba37f85a1f183', 'type': 'run'}, {'user_id': 'd77908482ed2505ebbf17ef72be2f080', 'distance': Decimal('4.295745239046658'), 'ascent': Decimal('10.98809027671814'), 'descent': Decimal('23.580438494682312'), 'calories': Decimal('344.588'), 'pace': Decimal('12.745169220544955'), 'steps': Decimal('6259'), 'end': '2018-01-30T04:00:09.215000Z', 'speed': Decimal('4.707666015393598'), 'start': '2018-01-30T03:05:21Z', 'activity_id': 'cf95db0decc751d1b0d8bc62bacf346f', 'type': 'run'}, {'user_id': 'd77908482ed2505ebbf17ef72be2f080', 'distance': Decimal('5.107463362456542'), 'ascent': Decimal('12.875235080718994'), 'descent': Decimal('5.715232342481613'), 'calories': Decimal('400.779'), 'pace': Decimal('12.018359991486992'), 'steps': Decimal('7089'), 'end': '2018-02-04T20:07:59.943000Z', 'speed': Decimal('4.99236169015573'), 'start': '2018-02-04T19:06:33Z', 'activity_id': 'eecc01012a6653979761045704249464', 'type': 'run'}, {'user_id': 'd77908482ed2505ebbf17ef72be2f080', 'distance': Decimal('0.5228733835008679'), 'ascent': Decimal('1.1092855632305145'), 'descent': Decimal('10.84444808959961'), 'calories': Decimal('42.686'), 'pace': Decimal('14.981319723879828'), 'steps': Decimal('846'), 'end': '2018-02-24T23:29:41.033000Z', 'speed': Decimal('4.004987618304519'), 'start': '2018-02-24T22:45:10Z', 'activity_id': 'fd66e96c1dbd5a20b97937acd1f5f80d', 'type': 'run'}, {'user_id': 'd77908482ed2505ebbf17ef72be2f080', 'distance': Decimal('2.443870362459134'), 'ascent': Decimal('4.28290230631827'), 'descent': Decimal('6.290907746553408'), 'calories': Decimal('193.358'), 'pace': Decimal('12.439285023862777'), 'steps': Decimal('3543'), 'end': '2018-03-23T01:56:41.207000Z', 'speed': Decimal('4.823428346958816'), 'start': '2018-03-23T01:26:12Z', 'activity_id': '4f831a24d1d65155a6748b33ad0118d1', 'type': 'run'}]\n",
    "userIDs = []\n",
    "for itm in userData:\n",
    "    userIDs.append(itm[\"distance\"])"
   ]
  },
  {
   "cell_type": "code",
   "execution_count": 4,
   "metadata": {},
   "outputs": [],
   "source": [
    "for workout in userData:\n",
    "    convertedToDate = datetime.strptime(workout[\"start\"][:10], \"%Y-%m-%d\")\n",
    "    workout[\"start\"] = convertedToDate - timedelta(convertedToDate.weekday())"
   ]
  },
  {
   "cell_type": "code",
   "execution_count": 8,
   "metadata": {},
   "outputs": [
    {
     "data": {
      "text/plain": [
       "[{'user_id': 'd77908482ed2505ebbf17ef72be2f080',\n",
       "  'distance': Decimal('4.478512443021909'),\n",
       "  'ascent': Decimal('81.33643397688866'),\n",
       "  'descent': Decimal('80.4417839050293'),\n",
       "  'calories': Decimal('60.935'),\n",
       "  'pace': Decimal('13.360429553618925'),\n",
       "  'steps': Decimal('6388'),\n",
       "  'end': '2017-12-02T20:01:09.756000Z',\n",
       "  'speed': Decimal('4.490873572530299'),\n",
       "  'start': datetime.datetime(2017, 11, 27, 0, 0),\n",
       "  'activity_id': '254369755c4e59b48f72717075dc3456',\n",
       "  'type': 'run'},\n",
       " {'user_id': 'd77908482ed2505ebbf17ef72be2f080',\n",
       "  'distance': Decimal('1.334750197192503'),\n",
       "  'descent': Decimal('6.8222527503967285'),\n",
       "  'calories': Decimal('107.624'),\n",
       "  'pace': Decimal('11.704499737998676'),\n",
       "  'steps': Decimal('1807'),\n",
       "  'end': '2018-01-16T00:41:37.261000Z',\n",
       "  'speed': Decimal('5.12623361468495'),\n",
       "  'start': datetime.datetime(2018, 1, 15, 0, 0),\n",
       "  'activity_id': '869942d3c43e5f66afec49526fb2d5a6',\n",
       "  'type': 'run'},\n",
       " {'user_id': 'd77908482ed2505ebbf17ef72be2f080',\n",
       "  'distance': Decimal('5.5344684198995795'),\n",
       "  'ascent': Decimal('9.61392728984356'),\n",
       "  'descent': Decimal('8.326112833991644'),\n",
       "  'calories': Decimal('446.039'),\n",
       "  'pace': Decimal('12.599824959268377'),\n",
       "  'steps': Decimal('7882'),\n",
       "  'end': '2018-01-28T19:48:46.610000Z',\n",
       "  'speed': Decimal('4.761970915783577'),\n",
       "  'start': datetime.datetime(2018, 1, 22, 0, 0),\n",
       "  'activity_id': 'c456c887e36f5352b19ba37f85a1f183',\n",
       "  'type': 'run'},\n",
       " {'user_id': 'd77908482ed2505ebbf17ef72be2f080',\n",
       "  'distance': Decimal('4.295745239046658'),\n",
       "  'ascent': Decimal('10.98809027671814'),\n",
       "  'descent': Decimal('23.580438494682312'),\n",
       "  'calories': Decimal('344.588'),\n",
       "  'pace': Decimal('12.745169220544955'),\n",
       "  'steps': Decimal('6259'),\n",
       "  'end': '2018-01-30T04:00:09.215000Z',\n",
       "  'speed': Decimal('4.707666015393598'),\n",
       "  'start': datetime.datetime(2018, 1, 29, 0, 0),\n",
       "  'activity_id': 'cf95db0decc751d1b0d8bc62bacf346f',\n",
       "  'type': 'run'},\n",
       " {'user_id': 'd77908482ed2505ebbf17ef72be2f080',\n",
       "  'distance': Decimal('5.107463362456542'),\n",
       "  'ascent': Decimal('12.875235080718994'),\n",
       "  'descent': Decimal('5.715232342481613'),\n",
       "  'calories': Decimal('400.779'),\n",
       "  'pace': Decimal('12.018359991486992'),\n",
       "  'steps': Decimal('7089'),\n",
       "  'end': '2018-02-04T20:07:59.943000Z',\n",
       "  'speed': Decimal('4.99236169015573'),\n",
       "  'start': datetime.datetime(2018, 1, 29, 0, 0),\n",
       "  'activity_id': 'eecc01012a6653979761045704249464',\n",
       "  'type': 'run'},\n",
       " {'user_id': 'd77908482ed2505ebbf17ef72be2f080',\n",
       "  'distance': Decimal('0.5228733835008679'),\n",
       "  'ascent': Decimal('1.1092855632305145'),\n",
       "  'descent': Decimal('10.84444808959961'),\n",
       "  'calories': Decimal('42.686'),\n",
       "  'pace': Decimal('14.981319723879828'),\n",
       "  'steps': Decimal('846'),\n",
       "  'end': '2018-02-24T23:29:41.033000Z',\n",
       "  'speed': Decimal('4.004987618304519'),\n",
       "  'start': datetime.datetime(2018, 2, 19, 0, 0),\n",
       "  'activity_id': 'fd66e96c1dbd5a20b97937acd1f5f80d',\n",
       "  'type': 'run'},\n",
       " {'user_id': 'd77908482ed2505ebbf17ef72be2f080',\n",
       "  'distance': Decimal('2.443870362459134'),\n",
       "  'ascent': Decimal('4.28290230631827'),\n",
       "  'descent': Decimal('6.290907746553408'),\n",
       "  'calories': Decimal('193.358'),\n",
       "  'pace': Decimal('12.439285023862777'),\n",
       "  'steps': Decimal('3543'),\n",
       "  'end': '2018-03-23T01:56:41.207000Z',\n",
       "  'speed': Decimal('4.823428346958816'),\n",
       "  'start': datetime.datetime(2018, 3, 19, 0, 0),\n",
       "  'activity_id': '4f831a24d1d65155a6748b33ad0118d1',\n",
       "  'type': 'run'}]"
      ]
     },
     "execution_count": 8,
     "metadata": {},
     "output_type": "execute_result"
    }
   ],
   "source": [
    "import operator\n",
    "sorted(userData, key=operator.itemgetter('start'))"
   ]
  },
  {
   "cell_type": "code",
   "execution_count": 9,
   "metadata": {},
   "outputs": [],
   "source": [
    "weeksStarting = {x['start'] for x in userData}"
   ]
  },
  {
   "cell_type": "code",
   "execution_count": 10,
   "metadata": {},
   "outputs": [
    {
     "data": {
      "text/plain": [
       "{datetime.datetime(2017, 11, 27, 0, 0),\n",
       " datetime.datetime(2018, 1, 15, 0, 0),\n",
       " datetime.datetime(2018, 1, 22, 0, 0),\n",
       " datetime.datetime(2018, 1, 29, 0, 0),\n",
       " datetime.datetime(2018, 2, 19, 0, 0),\n",
       " datetime.datetime(2018, 3, 19, 0, 0)}"
      ]
     },
     "execution_count": 10,
     "metadata": {},
     "output_type": "execute_result"
    }
   ],
   "source": [
    "weeksStarting"
   ]
  },
  {
   "cell_type": "code",
   "execution_count": 22,
   "metadata": {},
   "outputs": [
    {
     "name": "stdout",
     "output_type": "stream",
     "text": [
      "2018-02-19 00:00:00: 0.5228733835008679\n",
      "[{'user_id': 'd77908482ed2505ebbf17ef72be2f080', 'distance': Decimal('0.5228733835008679'), 'ascent': Decimal('1.1092855632305145'), 'descent': Decimal('10.84444808959961'), 'calories': Decimal('42.686'), 'pace': Decimal('14.981319723879828'), 'steps': Decimal('846'), 'end': '2018-02-24T23:29:41.033000Z', 'speed': Decimal('4.004987618304519'), 'start': datetime.datetime(2018, 2, 19, 0, 0), 'activity_id': 'fd66e96c1dbd5a20b97937acd1f5f80d', 'type': 'run'}]\n",
      "\n",
      "2018-01-15 00:00:00: 1.334750197192503\n",
      "[{'user_id': 'd77908482ed2505ebbf17ef72be2f080', 'distance': Decimal('1.334750197192503'), 'descent': Decimal('6.8222527503967285'), 'calories': Decimal('107.624'), 'pace': Decimal('11.704499737998676'), 'steps': Decimal('1807'), 'end': '2018-01-16T00:41:37.261000Z', 'speed': Decimal('5.12623361468495'), 'start': datetime.datetime(2018, 1, 15, 0, 0), 'activity_id': '869942d3c43e5f66afec49526fb2d5a6', 'type': 'run'}]\n",
      "\n",
      "2018-03-19 00:00:00: 2.443870362459134\n",
      "[{'user_id': 'd77908482ed2505ebbf17ef72be2f080', 'distance': Decimal('2.443870362459134'), 'ascent': Decimal('4.28290230631827'), 'descent': Decimal('6.290907746553408'), 'calories': Decimal('193.358'), 'pace': Decimal('12.439285023862777'), 'steps': Decimal('3543'), 'end': '2018-03-23T01:56:41.207000Z', 'speed': Decimal('4.823428346958816'), 'start': datetime.datetime(2018, 3, 19, 0, 0), 'activity_id': '4f831a24d1d65155a6748b33ad0118d1', 'type': 'run'}]\n",
      "\n",
      "2017-11-27 00:00:00: 4.478512443021909\n",
      "[{'user_id': 'd77908482ed2505ebbf17ef72be2f080', 'distance': Decimal('4.478512443021909'), 'ascent': Decimal('81.33643397688866'), 'descent': Decimal('80.4417839050293'), 'calories': Decimal('60.935'), 'pace': Decimal('13.360429553618925'), 'steps': Decimal('6388'), 'end': '2017-12-02T20:01:09.756000Z', 'speed': Decimal('4.490873572530299'), 'start': datetime.datetime(2017, 11, 27, 0, 0), 'activity_id': '254369755c4e59b48f72717075dc3456', 'type': 'run'}]\n",
      "\n",
      "2018-01-29 00:00:00: 9.403208601503200\n",
      "[{'user_id': 'd77908482ed2505ebbf17ef72be2f080', 'distance': Decimal('4.295745239046658'), 'ascent': Decimal('10.98809027671814'), 'descent': Decimal('23.580438494682312'), 'calories': Decimal('344.588'), 'pace': Decimal('12.745169220544955'), 'steps': Decimal('6259'), 'end': '2018-01-30T04:00:09.215000Z', 'speed': Decimal('4.707666015393598'), 'start': datetime.datetime(2018, 1, 29, 0, 0), 'activity_id': 'cf95db0decc751d1b0d8bc62bacf346f', 'type': 'run'}, {'user_id': 'd77908482ed2505ebbf17ef72be2f080', 'distance': Decimal('5.107463362456542'), 'ascent': Decimal('12.875235080718994'), 'descent': Decimal('5.715232342481613'), 'calories': Decimal('400.779'), 'pace': Decimal('12.018359991486992'), 'steps': Decimal('7089'), 'end': '2018-02-04T20:07:59.943000Z', 'speed': Decimal('4.99236169015573'), 'start': datetime.datetime(2018, 1, 29, 0, 0), 'activity_id': 'eecc01012a6653979761045704249464', 'type': 'run'}]\n",
      "\n",
      "2018-01-22 00:00:00: 5.5344684198995795\n",
      "[{'user_id': 'd77908482ed2505ebbf17ef72be2f080', 'distance': Decimal('5.5344684198995795'), 'ascent': Decimal('9.61392728984356'), 'descent': Decimal('8.326112833991644'), 'calories': Decimal('446.039'), 'pace': Decimal('12.599824959268377'), 'steps': Decimal('7882'), 'end': '2018-01-28T19:48:46.610000Z', 'speed': Decimal('4.761970915783577'), 'start': datetime.datetime(2018, 1, 22, 0, 0), 'activity_id': 'c456c887e36f5352b19ba37f85a1f183', 'type': 'run'}]\n",
      "\n"
     ]
    }
   ],
   "source": [
    "for weekStart in weeksStarting:\n",
    "    itms = list(filter(lambda x: x['start'] == weekStart, userData))\n",
    "    sumofdist = sum(x['distance'] for x in itms)\n",
    "    print(str(weekStart) + ': ' + str(sumofdist))\n",
    "    print(itms)\n",
    "    print()"
   ]
  },
  {
   "cell_type": "code",
   "execution_count": null,
   "metadata": {},
   "outputs": [],
   "source": []
  },
  {
   "cell_type": "code",
   "execution_count": 24,
   "metadata": {},
   "outputs": [
    {
     "name": "stdout",
     "output_type": "stream",
     "text": [
      "2018-02-19 00:00:00: 0.5228733835008679\n",
      "0\n",
      "[{'user_id': 'd77908482ed2505ebbf17ef72be2f080', 'distance': Decimal('0.5228733835008679'), 'ascent': Decimal('1.1092855632305145'), 'descent': Decimal('10.84444808959961'), 'calories': Decimal('42.686'), 'pace': Decimal('14.981319723879828'), 'steps': Decimal('846'), 'end': '2018-02-24T23:29:41.033000Z', 'speed': Decimal('4.004987618304519'), 'start': datetime.datetime(2018, 2, 19, 0, 0), 'activity_id': 'fd66e96c1dbd5a20b97937acd1f5f80d', 'type': 'run'}]\n",
      "\n",
      "2018-01-15 00:00:00: 1.334750197192503\n",
      "0\n",
      "[{'user_id': 'd77908482ed2505ebbf17ef72be2f080', 'distance': Decimal('1.334750197192503'), 'descent': Decimal('6.8222527503967285'), 'calories': Decimal('107.624'), 'pace': Decimal('11.704499737998676'), 'steps': Decimal('1807'), 'end': '2018-01-16T00:41:37.261000Z', 'speed': Decimal('5.12623361468495'), 'start': datetime.datetime(2018, 1, 15, 0, 0), 'activity_id': '869942d3c43e5f66afec49526fb2d5a6', 'type': 'run'}]\n",
      "\n",
      "2018-03-19 00:00:00: 2.443870362459134\n",
      "0\n",
      "[{'user_id': 'd77908482ed2505ebbf17ef72be2f080', 'distance': Decimal('2.443870362459134'), 'ascent': Decimal('4.28290230631827'), 'descent': Decimal('6.290907746553408'), 'calories': Decimal('193.358'), 'pace': Decimal('12.439285023862777'), 'steps': Decimal('3543'), 'end': '2018-03-23T01:56:41.207000Z', 'speed': Decimal('4.823428346958816'), 'start': datetime.datetime(2018, 3, 19, 0, 0), 'activity_id': '4f831a24d1d65155a6748b33ad0118d1', 'type': 'run'}]\n",
      "\n",
      "2017-11-27 00:00:00: 4.478512443021909\n",
      "0\n",
      "[{'user_id': 'd77908482ed2505ebbf17ef72be2f080', 'distance': Decimal('4.478512443021909'), 'ascent': Decimal('81.33643397688866'), 'descent': Decimal('80.4417839050293'), 'calories': Decimal('60.935'), 'pace': Decimal('13.360429553618925'), 'steps': Decimal('6388'), 'end': '2017-12-02T20:01:09.756000Z', 'speed': Decimal('4.490873572530299'), 'start': datetime.datetime(2017, 11, 27, 0, 0), 'activity_id': '254369755c4e59b48f72717075dc3456', 'type': 'run'}]\n",
      "\n",
      "2018-01-29 00:00:00: 9.403208601503200\n",
      "0\n",
      "[{'user_id': 'd77908482ed2505ebbf17ef72be2f080', 'distance': Decimal('4.295745239046658'), 'ascent': Decimal('10.98809027671814'), 'descent': Decimal('23.580438494682312'), 'calories': Decimal('344.588'), 'pace': Decimal('12.745169220544955'), 'steps': Decimal('6259'), 'end': '2018-01-30T04:00:09.215000Z', 'speed': Decimal('4.707666015393598'), 'start': datetime.datetime(2018, 1, 29, 0, 0), 'activity_id': 'cf95db0decc751d1b0d8bc62bacf346f', 'type': 'run'}, {'user_id': 'd77908482ed2505ebbf17ef72be2f080', 'distance': Decimal('5.107463362456542'), 'ascent': Decimal('12.875235080718994'), 'descent': Decimal('5.715232342481613'), 'calories': Decimal('400.779'), 'pace': Decimal('12.018359991486992'), 'steps': Decimal('7089'), 'end': '2018-02-04T20:07:59.943000Z', 'speed': Decimal('4.99236169015573'), 'start': datetime.datetime(2018, 1, 29, 0, 0), 'activity_id': 'eecc01012a6653979761045704249464', 'type': 'run'}]\n",
      "\n",
      "2018-01-22 00:00:00: 5.5344684198995795\n",
      "0\n",
      "[{'user_id': 'd77908482ed2505ebbf17ef72be2f080', 'distance': Decimal('5.5344684198995795'), 'ascent': Decimal('9.61392728984356'), 'descent': Decimal('8.326112833991644'), 'calories': Decimal('446.039'), 'pace': Decimal('12.599824959268377'), 'steps': Decimal('7882'), 'end': '2018-01-28T19:48:46.610000Z', 'speed': Decimal('4.761970915783577'), 'start': datetime.datetime(2018, 1, 22, 0, 0), 'activity_id': 'c456c887e36f5352b19ba37f85a1f183', 'type': 'run'}]\n",
      "\n"
     ]
    }
   ],
   "source": [
    "numOfWeeksRanMoreThan10km = 0\n",
    "for weekStart in weeksStarting:\n",
    "    workoutsThisWeek = list(filter(lambda x: x['start'] == weekStart, userData))\n",
    "    sumOfDistanceInWeek = sum([thisWorkout['distance'] for thisWorkout in workoutsThisWeek])\n",
    "    print(str(weekStart) + ': ' + str(sumOfDistanceInWeek))\n",
    "\n",
    "    if sumOfDistanceInWeek >= 10:\n",
    "        numOfWeeksRanMoreThan10km = numOfWeeksRanMoreThan10km + 1\n",
    "    \n",
    "    print(numOfWeeksRanMoreThan10km)\n",
    "    print(workoutsThisWeek)\n",
    "    print()"
   ]
  },
  {
   "cell_type": "code",
   "execution_count": null,
   "metadata": {},
   "outputs": [],
   "source": [
    "for weekStart in weeksStarting:\n",
    "    workoutsThisWeek = list(filter(lambda x: x['start'] == weekStart, userData))\n",
    "    sumOfDistanceInWeek = sum([thisWorkout['distance'] for thisWorkout in workoutsThisWeek])\n",
    "    if sumOfDistanceInWeek >= 10:\n",
    "        numOfWeeksRanMoreThan10km = numOfWeeksRanMoreThan10km + 1"
   ]
  }
 ],
 "metadata": {
  "kernelspec": {
   "display_name": "Python 3",
   "language": "python",
   "name": "python3"
  },
  "language_info": {
   "codemirror_mode": {
    "name": "ipython",
    "version": 3
   },
   "file_extension": ".py",
   "mimetype": "text/x-python",
   "name": "python",
   "nbconvert_exporter": "python",
   "pygments_lexer": "ipython3",
   "version": "3.7.2"
  }
 },
 "nbformat": 4,
 "nbformat_minor": 2
}
